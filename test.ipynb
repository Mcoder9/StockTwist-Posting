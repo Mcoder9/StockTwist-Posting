{
 "cells": [
  {
   "cell_type": "code",
   "execution_count": 1,
   "metadata": {},
   "outputs": [],
   "source": [
    "from faker import Faker\n",
    "from time import sleep\n",
    "import json\n",
    "import requests\n",
    "import random\n",
    "import pyperclip\n",
    "import subprocess,os,sys\n",
    "from selenium import webdriver\n",
    "from selenium.webdriver.chrome.options import Options\n",
    "from selenium.webdriver.common.by import By\n",
    "from selenium.webdriver.common.keys import Keys\n",
    "from selenium.webdriver.chrome.service import Service\n",
    "from selenium.webdriver.support.ui import WebDriverWait\n",
    "from selenium.webdriver.common.desired_capabilities import DesiredCapabilities\n",
    "from selenium.webdriver.support import expected_conditions as EC\n",
    "main_directory = os.getcwd()"
   ]
  },
  {
   "cell_type": "code",
   "execution_count": 4,
   "metadata": {},
   "outputs": [],
   "source": [
    "def browserSetup(main_directory):\n",
    "    subprocess.Popen(\n",
    "        [\"start\",\"chrome\",\"--remote-debugging-port=8989\",\"--user-data-dir=\" + main_directory + \"/chrome_profile\",],shell=True\n",
    "                        )\n",
    "    options = Options()\n",
    "    options.add_argument(\"--start-maximized\")\n",
    "    options.add_argument('--ignore-certificate-errors')\n",
    "    options.add_argument(\"--disable-infobars\")\n",
    "    options.add_argument('--allow-running-insecure-content')\n",
    "    options.add_argument('--disable-gpu')\n",
    "    options.add_argument('--no-sandbox')\n",
    "    options.add_argument(\"--disable-blink-features=AutomationControlled\")\n",
    "    options.add_experimental_option(\"debuggerAddress\", \"localhost:8989\")\n",
    "    s = Service(executable_path=main_directory + \"/chromedriver.exe\")\n",
    "    driver = webdriver.Chrome(service=s,options=options)\n",
    "    wait = WebDriverWait(driver, 60)\n",
    "    return driver"
   ]
  },
  {
   "cell_type": "code",
   "execution_count": 5,
   "metadata": {},
   "outputs": [],
   "source": [
    "driver = browserSetup(main_directory)"
   ]
  },
  {
   "cell_type": "code",
   "execution_count": 3,
   "metadata": {},
   "outputs": [],
   "source": [
    "with open('Accounts Generators\\\\Accounts.json') as f:\n",
    "    record = json.load(f)"
   ]
  },
  {
   "cell_type": "code",
   "execution_count": 7,
   "metadata": {},
   "outputs": [],
   "source": [
    "for k in record:\n",
    "    username = 'johnsmit1907r9'    #record[k]['Username']\n",
    "    password = 'Pakistan99'     #record[k]['Password']\n",
    "    driver.get('https://stocktwits.com/')\n",
    "    driver.find_element(By.XPATH, '(//nav//button)[1]').click() # login-button\n",
    "    driver.find_element(By.XPATH, '//input[@name=\"login\"]').send_keys(username), sleep(2)\n",
    "    driver.find_element(By.XPATH, '//input[@name=\"password\"]').send_keys(password), sleep(2)\n",
    "    while True:\n",
    "        status = driver.find_element(By.CSS_SELECTOR, 'div.antigate_solver').get_attribute('class')\n",
    "        if 'solved' in status.lower():\n",
    "            break\n",
    "        if 'error' in status.lower():\n",
    "            print('error')\n",
    "            break\n",
    "        else:\n",
    "            sleep(1)\n",
    "    sleep(4)\n",
    "    driver.find_element(By.XPATH, '//button[@type=\"submit\"]').click()\n",
    "    break"
   ]
  }
 ],
 "metadata": {
  "interpreter": {
   "hash": "63e3657f3ce08bada0e19579d4bc1169104737e51c2ce169dc5259b4e8a17b38"
  },
  "kernelspec": {
   "display_name": "Python 3.9.1 64-bit",
   "language": "python",
   "name": "python3"
  },
  "language_info": {
   "codemirror_mode": {
    "name": "ipython",
    "version": 3
   },
   "file_extension": ".py",
   "mimetype": "text/x-python",
   "name": "python",
   "nbconvert_exporter": "python",
   "pygments_lexer": "ipython3",
   "version": "3.9.1"
  },
  "orig_nbformat": 4
 },
 "nbformat": 4,
 "nbformat_minor": 2
}
