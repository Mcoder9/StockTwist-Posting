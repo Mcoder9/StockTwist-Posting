{
 "cells": [
  {
   "cell_type": "code",
   "execution_count": 134,
   "metadata": {},
   "outputs": [],
   "source": [
    "from faker import Faker\n",
    "from time import sleep\n",
    "import json\n",
    "import requests\n",
    "import random\n",
    "import pyperclip\n",
    "import subprocess,os,sys\n",
    "from selenium import webdriver\n",
    "from selenium.webdriver.chrome.options import Options\n",
    "from selenium.webdriver.common.by import By\n",
    "from selenium.webdriver.common.keys import Keys\n",
    "from selenium.webdriver.chrome.service import Service\n",
    "from selenium.webdriver.support.ui import WebDriverWait\n",
    "from selenium.webdriver.common.desired_capabilities import DesiredCapabilities\n",
    "from selenium.webdriver.support import expected_conditions as EC\n",
    "\n",
    "\n",
    "def browserSetup(main_directory):\n",
    "    subprocess.Popen(\n",
    "        [\"start\",\"chrome\",\"--remote-debugging-port=8989\",\"--user-data-dir=\" + main_directory + \"/chrome_profile\",],shell=True\n",
    "                        )\n",
    "    options = Options()\n",
    "    options.add_argument(\"--start-maximized\")\n",
    "    options.add_argument('--ignore-certificate-errors')\n",
    "    options.add_argument(\"--disable-infobars\")\n",
    "    options.add_argument('--allow-running-insecure-content')\n",
    "    options.add_argument('--disable-gpu')\n",
    "    options.add_argument('--no-sandbox')\n",
    "    options.add_argument(\"--disable-blink-features=AutomationControlled\")\n",
    "    options.add_experimental_option(\"debuggerAddress\", \"localhost:8989\")\n",
    "    s = Service(executable_path=main_directory + \"/chromedriver.exe\")\n",
    "    driver = webdriver.Chrome(service=s,options=options)\n",
    "    wait = WebDriverWait(driver, 60)\n",
    "    return driver\n",
    "\n",
    "\n",
    "def signupInfo():\n",
    "    driver.get(\"https://temp-mail.org/en/\")\n",
    "    copybutton = WebDriverWait(driver, 30).until(EC.element_to_be_clickable((By.CSS_SELECTOR, \"form>div:last-of-type>button.click-to-copy.copyIconGreenBtn\")))\n",
    "    copybutton.click()\n",
    "    # driver.find_element(By.CSS_SELECTOR, \"form>div:last-of-type>button.click-to-copy.copyIconGreenBtn\").click()\n",
    "    email = pyperclip.paste()\n",
    "    name = Faker().name()\n",
    "    username = Faker().name().replace(' ', str(random.randint(1,500)))\n",
    "    password = Faker().name().replace(' ', str(random.randint(1,500)))\n",
    "    return {'Name':name, \"Email\":email, \"Username\":username, \"Password\":password}\n",
    "\n",
    "def signup(data):\n",
    "    driver.execute_script(\"window.open('');\")\n",
    "    driver.switch_to.window(driver.window_handles[1])\n",
    "    driver.get(\"https://stocktwits.com/\")\n",
    "    driver.find_element(By.XPATH, '(//nav//button)[2]').click(), sleep(2) # signup-button\n",
    "    driver.find_element(By.XPATH, '//input[@name=\"name\"]').send_keys(data['Name']), sleep(2)\n",
    "    driver.find_element(By.XPATH, '//input[@name=\"email\"]').send_keys(data['Email']), sleep(2)\n",
    "    driver.find_element(By.XPATH, '//input[@name=\"login\"]').send_keys(data[\"Username\"]), sleep(2)\n",
    "    driver.find_element(By.XPATH, '//input[@name=\"password\"]').send_keys(data['Password']), sleep(2)\n",
    "    driver.find_element(By.XPATH, '//button[@type=\"submit\"]').click(), sleep(2) # submit\n",
    "    try:driver.find_element(By.XPATH, '//button[@type=\"submit\"]').click() # Build watchlist\n",
    "    except: pass\n",
    "\n",
    "def emailVerification():\n",
    "    driver.switch_to.window(driver.window_handles[0])\n",
    "    while True:\n",
    "        try:\n",
    "            driver.find_element(By.XPATH, '//span[@class=\"inboxSubject subject-title\"]/a[contains(@href,\"temp-mail.org\")]').get_attribute('href')\n",
    "            break\n",
    "        except: sleep(1)\n",
    "    mailSourceLink = driver.find_element(By.XPATH, '//span[@class=\"inboxSubject subject-title\"]/a[contains(@href,\"temp-mail.org\")]').get_attribute('href')\n",
    "    driver.get(mailSourceLink)\n",
    "    verificationLink = WebDriverWait(driver, 10).until(EC.element_to_be_clickable((By.XPATH, '//div[@class=\"inbox-data-content-intro\"]//a[contains(@href,\"verify?token=\")]'))).get_attribute('href')\n",
    "    # verificationLink = driver.find_element(By.XPATH, '//div[@class=\"inbox-data-content-intro\"]//a[contains(@href,\"verify?token=\")]').get_attribute('href')\n",
    "    driver.get(verificationLink)\n",
    "\n",
    "def saveLoginToText(data):\n",
    "    with open('Accounts.json') as f:\n",
    "        savedData = json.load(f)\n",
    "    with open('Accounts.json','w') as f:\n",
    "        savedData[str(len(savedData)+1)] = data\n",
    "        updatedData = savedData\n",
    "        json.dump(updatedData,f,indent=4)\n",
    "\n",
    "def Saaf_Saman():\n",
    "    driver.get('chrome://settings/clearBrowserData')\n",
    "    clear_button = \"document.querySelector('settings-ui').shadowRoot.querySelector('settings-main').shadowRoot.querySelector('settings-basic-page').shadowRoot.querySelector('settings-section>settings-privacy-page').shadowRoot.querySelector('settings-clear-browsing-data-dialog').shadowRoot.querySelector('cr-dialog>div>cr-button#clearBrowsingDataConfirm').click();\"\n",
    "    sleep(1)\n",
    "    driver.execute_script(clear_button)\n",
    "\n",
    "def close_free_tabs():\n",
    "    tabs = driver.window_handles\n",
    "    current_tab = driver.current_window_handle\n",
    "    for tab in tabs:\n",
    "        driver.switch_to.window(tab)\n",
    "        if tab == current_tab:\n",
    "            continue\n",
    "        else:\n",
    "            driver.close()\n",
    "    driver.switch_to.window(current_tab)\n",
    "\n"
   ]
  },
  {
   "cell_type": "code",
   "execution_count": 135,
   "metadata": {},
   "outputs": [],
   "source": [
    "driver = browserSetup(main_directory)\n",
    "\n",
    "\n",
    "# if __name__ == '__main__':\n",
    "#     main_directory = os.getcwd()\n",
    "#     driver = browserSetup(main_directory)\n",
    "#     for _ in range(5):\n",
    "#         try:\n",
    "#             data = signupInfo()\n",
    "#             signup(data)\n",
    "#             emailVerification()\n",
    "#             saveLoginToText(data)\n",
    "#             Saaf_Saman()\n",
    "#             close_free_tabs()\n",
    "#         except:\n",
    "#             Saaf_Saman()\n",
    "#             close_free_tabs()"
   ]
  },
  {
   "cell_type": "code",
   "execution_count": 370,
   "metadata": {},
   "outputs": [
    {
     "data": {
      "text/plain": [
       "'antigate_solver recaptcha error'"
      ]
     },
     "execution_count": 370,
     "metadata": {},
     "output_type": "execute_result"
    }
   ],
   "source": [
    "driver.find_element(By.CSS_SELECTOR, 'div.antigate_solver').get_attribute('class')"
   ]
  },
  {
   "cell_type": "code",
   "execution_count": 368,
   "metadata": {},
   "outputs": [
    {
     "data": {
      "text/plain": [
       "'antigate_solver recaptcha in_process'"
      ]
     },
     "execution_count": 368,
     "metadata": {},
     "output_type": "execute_result"
    }
   ],
   "source": [
    "driver.find_element(By.CSS_SELECTOR, 'div.antigate_solver').get_attribute('class')"
   ]
  },
  {
   "cell_type": "code",
   "execution_count": 369,
   "metadata": {},
   "outputs": [
    {
     "data": {
      "text/plain": [
       "'antigate_solver recaptcha solved'"
      ]
     },
     "execution_count": 369,
     "metadata": {},
     "output_type": "execute_result"
    }
   ],
   "source": [
    "driver.find_element(By.CSS_SELECTOR, 'div.antigate_solver').get_attribute('class')"
   ]
  },
  {
   "cell_type": "code",
   "execution_count": null,
   "metadata": {},
   "outputs": [],
   "source": []
  }
 ],
 "metadata": {
  "interpreter": {
   "hash": "63e3657f3ce08bada0e19579d4bc1169104737e51c2ce169dc5259b4e8a17b38"
  },
  "kernelspec": {
   "display_name": "Python 3 (ipykernel)",
   "language": "python",
   "name": "python3"
  },
  "language_info": {
   "codemirror_mode": {
    "name": "ipython",
    "version": 3
   },
   "file_extension": ".py",
   "mimetype": "text/x-python",
   "name": "python",
   "nbconvert_exporter": "python",
   "pygments_lexer": "ipython3",
   "version": "3.9.1"
  }
 },
 "nbformat": 4,
 "nbformat_minor": 2
}
