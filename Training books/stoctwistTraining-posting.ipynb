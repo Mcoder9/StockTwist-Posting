{
 "cells": [
  {
   "cell_type": "code",
   "execution_count": 1,
   "id": "aac991e1",
   "metadata": {},
   "outputs": [],
   "source": [
    "from bs4 import BeautifulSoup\n",
    "from time import sleep\n",
    "import json\n",
    "import requests\n",
    "import random\n",
    "import subprocess,os,sys\n",
    "from selenium import webdriver\n",
    "from selenium.webdriver.chrome.options import Options\n",
    "from selenium.webdriver.common.by import By\n",
    "from selenium.webdriver.common.keys import Keys\n",
    "from selenium.webdriver.chrome.service import Service\n",
    "from selenium.webdriver.support.ui import WebDriverWait\n",
    "from selenium.webdriver.common.desired_capabilities import DesiredCapabilities\n",
    "from selenium.webdriver.support import expected_conditions as EC\n",
    "main_directory = os.getcwd()"
   ]
  },
  {
   "cell_type": "code",
   "execution_count": 2,
   "id": "8d1d9ba8",
   "metadata": {},
   "outputs": [],
   "source": [
    "def browserSetup(main_directory):\n",
    "    subprocess.Popen(\n",
    "        [\"start\",\"chrome\",\"--remote-debugging-port=8989\",\"--user-data-dir=\" + main_directory + \"/chrome_profile\",],shell=True\n",
    "                        )\n",
    "    options = Options()\n",
    "    options.add_argument(\"--start-maximized\")\n",
    "    options.add_argument('--ignore-certificate-errors')\n",
    "    options.add_argument(\"--disable-infobars\")\n",
    "    options.add_argument('--allow-running-insecure-content')\n",
    "    options.add_argument('--disable-gpu')\n",
    "    options.add_argument('--no-sandbox')\n",
    "    options.add_argument(\"--disable-blink-features=AutomationControlled\")\n",
    "    options.add_experimental_option(\"debuggerAddress\", \"localhost:8989\")\n",
    "    s = Service(executable_path=main_directory + \"/chromedriver.exe\")\n",
    "    driver = webdriver.Chrome(service=s,options=options)\n",
    "    wait = WebDriverWait(driver, 60)\n",
    "    return driver"
   ]
  },
  {
   "cell_type": "code",
   "execution_count": 3,
   "id": "f68f4d1f",
   "metadata": {},
   "outputs": [],
   "source": [
    "with open('Accounts.json') as f:\n",
    "    record = json.load(f)"
   ]
  },
  {
   "cell_type": "code",
   "execution_count": 5,
   "id": "cf37702c",
   "metadata": {},
   "outputs": [],
   "source": [
    "driver = browserSetup(main_directory)"
   ]
  },
  {
   "cell_type": "code",
   "execution_count": 5,
   "id": "4852ac8a",
   "metadata": {},
   "outputs": [],
   "source": [
    "def signup(data):\n",
    "    driver.switch_to.window(driver.window_handles[1])\n",
    "    driver.get(\"https://stocktwits.com/\")\n",
    "    driver.find_element(By.XPATH, '(//nav//button)[2]').click(), sleep(2) # signup-button\n",
    "    driver.find_element(By.XPATH, '//input[@name=\"name\"]').send_keys(data['Name']), sleep(2)\n",
    "    driver.find_element(By.XPATH, '//input[@name=\"email\"]').send_keys(data['Email']), sleep(2)\n",
    "    driver.find_element(By.XPATH, '//input[@name=\"login\"]').send_keys(data[\"Username\"]), sleep(2)\n",
    "    driver.find_element(By.XPATH, '//input[@name=\"password\"]').send_keys(data['Password']), sleep(2)\n",
    "    while True:\n",
    "        status = driver.find_element(By.CSS_SELECTOR, 'div.antigate_solver').get_attribute('class')\n",
    "        if 'solved' in status.lower():\n",
    "            break\n",
    "        if 'error' in status.lower():\n",
    "            signup(data)\n",
    "        else:\n",
    "            sleep(1)\n",
    "    driver.find_element(By.XPATH, '//button[@type=\"submit\"]').click(), sleep(2) # submit\n",
    "    try:driver.find_element(By.XPATH, '//button[@type=\"submit\"]').click() # Build watchlist\n",
    "    except: pass"
   ]
  },
  {
   "cell_type": "code",
   "execution_count": 6,
   "id": "e5b0cf4c",
   "metadata": {},
   "outputs": [
    {
     "ename": "NoSuchElementException",
     "evalue": "Message: no such element: Unable to locate element: {\"method\":\"css selector\",\"selector\":\"div.antigate_solver\"}\n  (Session info: chrome=99.0.4844.82)\nStacktrace:\nBacktrace:\n\tOrdinal0 [0x00759943+2595139]\n\tOrdinal0 [0x006EC9F1+2148849]\n\tOrdinal0 [0x005E4528+1066280]\n\tOrdinal0 [0x00610FD4+1249236]\n\tOrdinal0 [0x006111CB+1249739]\n\tOrdinal0 [0x0063D812+1431570]\n\tOrdinal0 [0x0062BA34+1358388]\n\tOrdinal0 [0x0063BAF2+1424114]\n\tOrdinal0 [0x0062B806+1357830]\n\tOrdinal0 [0x00606086+1204358]\n\tOrdinal0 [0x00606F96+1208214]\n\tGetHandleVerifier [0x008FB232+1658114]\n\tGetHandleVerifier [0x009B312C+2411516]\n\tGetHandleVerifier [0x007EF261+560433]\n\tGetHandleVerifier [0x007EE366+556598]\n\tOrdinal0 [0x006F286B+2173035]\n\tOrdinal0 [0x006F75F8+2192888]\n\tOrdinal0 [0x006F76E5+2193125]\n\tOrdinal0 [0x007011FC+2232828]\n\tBaseThreadInitThunk [0x7545FA29+25]\n\tRtlGetAppContainerNamedObjectPath [0x771D7A7E+286]\n\tRtlGetAppContainerNamedObjectPath [0x771D7A4E+238]\n",
     "output_type": "error",
     "traceback": [
      "\u001b[1;31m---------------------------------------------------------------------------\u001b[0m",
      "\u001b[1;31mNoSuchElementException\u001b[0m                    Traceback (most recent call last)",
      "\u001b[1;32mc:\\Users\\Ghulam Mustafa\\Desktop\\Stocktwist\\stoctwistTraining-posting.ipynb Cell 6'\u001b[0m in \u001b[0;36m<module>\u001b[1;34m\u001b[0m\n\u001b[0;32m      <a href='vscode-notebook-cell:/c%3A/Users/Ghulam%20Mustafa/Desktop/Stocktwist/stoctwistTraining-posting.ipynb#ch0000004?line=6'>7</a>\u001b[0m driver\u001b[39m.\u001b[39mfind_element(By\u001b[39m.\u001b[39mXPATH, \u001b[39m'\u001b[39m\u001b[39m//input[@name=\u001b[39m\u001b[39m\"\u001b[39m\u001b[39mpassword\u001b[39m\u001b[39m\"\u001b[39m\u001b[39m]\u001b[39m\u001b[39m'\u001b[39m)\u001b[39m.\u001b[39msend_keys(password), sleep(\u001b[39m2\u001b[39m)\n\u001b[0;32m      <a href='vscode-notebook-cell:/c%3A/Users/Ghulam%20Mustafa/Desktop/Stocktwist/stoctwistTraining-posting.ipynb#ch0000004?line=7'>8</a>\u001b[0m \u001b[39mwhile\u001b[39;00m \u001b[39mTrue\u001b[39;00m:\n\u001b[1;32m----> <a href='vscode-notebook-cell:/c%3A/Users/Ghulam%20Mustafa/Desktop/Stocktwist/stoctwistTraining-posting.ipynb#ch0000004?line=8'>9</a>\u001b[0m     status \u001b[39m=\u001b[39m driver\u001b[39m.\u001b[39;49mfind_element(By\u001b[39m.\u001b[39;49mCSS_SELECTOR, \u001b[39m'\u001b[39;49m\u001b[39mdiv.antigate_solver\u001b[39;49m\u001b[39m'\u001b[39;49m)\u001b[39m.\u001b[39mget_attribute(\u001b[39m'\u001b[39m\u001b[39mclass\u001b[39m\u001b[39m'\u001b[39m)\n\u001b[0;32m     <a href='vscode-notebook-cell:/c%3A/Users/Ghulam%20Mustafa/Desktop/Stocktwist/stoctwistTraining-posting.ipynb#ch0000004?line=9'>10</a>\u001b[0m     \u001b[39mif\u001b[39;00m \u001b[39m'\u001b[39m\u001b[39msolved\u001b[39m\u001b[39m'\u001b[39m \u001b[39min\u001b[39;00m status\u001b[39m.\u001b[39mlower():\n\u001b[0;32m     <a href='vscode-notebook-cell:/c%3A/Users/Ghulam%20Mustafa/Desktop/Stocktwist/stoctwistTraining-posting.ipynb#ch0000004?line=10'>11</a>\u001b[0m         \u001b[39mbreak\u001b[39;00m\n",
      "File \u001b[1;32m~\\AppData\\Local\\Programs\\Python\\Python39\\lib\\site-packages\\selenium\\webdriver\\remote\\webdriver.py:1248\u001b[0m, in \u001b[0;36mWebDriver.find_element\u001b[1;34m(self, by, value)\u001b[0m\n\u001b[0;32m   <a href='file:///c%3A/Users/Ghulam%20Mustafa/AppData/Local/Programs/Python/Python39/lib/site-packages/selenium/webdriver/remote/webdriver.py?line=1244'>1245</a>\u001b[0m     by \u001b[39m=\u001b[39m By\u001b[39m.\u001b[39mCSS_SELECTOR\n\u001b[0;32m   <a href='file:///c%3A/Users/Ghulam%20Mustafa/AppData/Local/Programs/Python/Python39/lib/site-packages/selenium/webdriver/remote/webdriver.py?line=1245'>1246</a>\u001b[0m     value \u001b[39m=\u001b[39m \u001b[39m'\u001b[39m\u001b[39m[name=\u001b[39m\u001b[39m\"\u001b[39m\u001b[39m%s\u001b[39;00m\u001b[39m\"\u001b[39m\u001b[39m]\u001b[39m\u001b[39m'\u001b[39m \u001b[39m%\u001b[39m value\n\u001b[1;32m-> <a href='file:///c%3A/Users/Ghulam%20Mustafa/AppData/Local/Programs/Python/Python39/lib/site-packages/selenium/webdriver/remote/webdriver.py?line=1247'>1248</a>\u001b[0m \u001b[39mreturn\u001b[39;00m \u001b[39mself\u001b[39;49m\u001b[39m.\u001b[39;49mexecute(Command\u001b[39m.\u001b[39;49mFIND_ELEMENT, {\n\u001b[0;32m   <a href='file:///c%3A/Users/Ghulam%20Mustafa/AppData/Local/Programs/Python/Python39/lib/site-packages/selenium/webdriver/remote/webdriver.py?line=1248'>1249</a>\u001b[0m     \u001b[39m'\u001b[39;49m\u001b[39musing\u001b[39;49m\u001b[39m'\u001b[39;49m: by,\n\u001b[0;32m   <a href='file:///c%3A/Users/Ghulam%20Mustafa/AppData/Local/Programs/Python/Python39/lib/site-packages/selenium/webdriver/remote/webdriver.py?line=1249'>1250</a>\u001b[0m     \u001b[39m'\u001b[39;49m\u001b[39mvalue\u001b[39;49m\u001b[39m'\u001b[39;49m: value})[\u001b[39m'\u001b[39m\u001b[39mvalue\u001b[39m\u001b[39m'\u001b[39m]\n",
      "File \u001b[1;32m~\\AppData\\Local\\Programs\\Python\\Python39\\lib\\site-packages\\selenium\\webdriver\\remote\\webdriver.py:425\u001b[0m, in \u001b[0;36mWebDriver.execute\u001b[1;34m(self, driver_command, params)\u001b[0m\n\u001b[0;32m    <a href='file:///c%3A/Users/Ghulam%20Mustafa/AppData/Local/Programs/Python/Python39/lib/site-packages/selenium/webdriver/remote/webdriver.py?line=422'>423</a>\u001b[0m response \u001b[39m=\u001b[39m \u001b[39mself\u001b[39m\u001b[39m.\u001b[39mcommand_executor\u001b[39m.\u001b[39mexecute(driver_command, params)\n\u001b[0;32m    <a href='file:///c%3A/Users/Ghulam%20Mustafa/AppData/Local/Programs/Python/Python39/lib/site-packages/selenium/webdriver/remote/webdriver.py?line=423'>424</a>\u001b[0m \u001b[39mif\u001b[39;00m response:\n\u001b[1;32m--> <a href='file:///c%3A/Users/Ghulam%20Mustafa/AppData/Local/Programs/Python/Python39/lib/site-packages/selenium/webdriver/remote/webdriver.py?line=424'>425</a>\u001b[0m     \u001b[39mself\u001b[39;49m\u001b[39m.\u001b[39;49merror_handler\u001b[39m.\u001b[39;49mcheck_response(response)\n\u001b[0;32m    <a href='file:///c%3A/Users/Ghulam%20Mustafa/AppData/Local/Programs/Python/Python39/lib/site-packages/selenium/webdriver/remote/webdriver.py?line=425'>426</a>\u001b[0m     response[\u001b[39m'\u001b[39m\u001b[39mvalue\u001b[39m\u001b[39m'\u001b[39m] \u001b[39m=\u001b[39m \u001b[39mself\u001b[39m\u001b[39m.\u001b[39m_unwrap_value(\n\u001b[0;32m    <a href='file:///c%3A/Users/Ghulam%20Mustafa/AppData/Local/Programs/Python/Python39/lib/site-packages/selenium/webdriver/remote/webdriver.py?line=426'>427</a>\u001b[0m         response\u001b[39m.\u001b[39mget(\u001b[39m'\u001b[39m\u001b[39mvalue\u001b[39m\u001b[39m'\u001b[39m, \u001b[39mNone\u001b[39;00m))\n\u001b[0;32m    <a href='file:///c%3A/Users/Ghulam%20Mustafa/AppData/Local/Programs/Python/Python39/lib/site-packages/selenium/webdriver/remote/webdriver.py?line=427'>428</a>\u001b[0m     \u001b[39mreturn\u001b[39;00m response\n",
      "File \u001b[1;32m~\\AppData\\Local\\Programs\\Python\\Python39\\lib\\site-packages\\selenium\\webdriver\\remote\\errorhandler.py:247\u001b[0m, in \u001b[0;36mErrorHandler.check_response\u001b[1;34m(self, response)\u001b[0m\n\u001b[0;32m    <a href='file:///c%3A/Users/Ghulam%20Mustafa/AppData/Local/Programs/Python/Python39/lib/site-packages/selenium/webdriver/remote/errorhandler.py?line=244'>245</a>\u001b[0m         alert_text \u001b[39m=\u001b[39m value[\u001b[39m'\u001b[39m\u001b[39malert\u001b[39m\u001b[39m'\u001b[39m]\u001b[39m.\u001b[39mget(\u001b[39m'\u001b[39m\u001b[39mtext\u001b[39m\u001b[39m'\u001b[39m)\n\u001b[0;32m    <a href='file:///c%3A/Users/Ghulam%20Mustafa/AppData/Local/Programs/Python/Python39/lib/site-packages/selenium/webdriver/remote/errorhandler.py?line=245'>246</a>\u001b[0m     \u001b[39mraise\u001b[39;00m exception_class(message, screen, stacktrace, alert_text)  \u001b[39m# type: ignore[call-arg]  # mypy is not smart enough here\u001b[39;00m\n\u001b[1;32m--> <a href='file:///c%3A/Users/Ghulam%20Mustafa/AppData/Local/Programs/Python/Python39/lib/site-packages/selenium/webdriver/remote/errorhandler.py?line=246'>247</a>\u001b[0m \u001b[39mraise\u001b[39;00m exception_class(message, screen, stacktrace)\n",
      "\u001b[1;31mNoSuchElementException\u001b[0m: Message: no such element: Unable to locate element: {\"method\":\"css selector\",\"selector\":\"div.antigate_solver\"}\n  (Session info: chrome=99.0.4844.82)\nStacktrace:\nBacktrace:\n\tOrdinal0 [0x00759943+2595139]\n\tOrdinal0 [0x006EC9F1+2148849]\n\tOrdinal0 [0x005E4528+1066280]\n\tOrdinal0 [0x00610FD4+1249236]\n\tOrdinal0 [0x006111CB+1249739]\n\tOrdinal0 [0x0063D812+1431570]\n\tOrdinal0 [0x0062BA34+1358388]\n\tOrdinal0 [0x0063BAF2+1424114]\n\tOrdinal0 [0x0062B806+1357830]\n\tOrdinal0 [0x00606086+1204358]\n\tOrdinal0 [0x00606F96+1208214]\n\tGetHandleVerifier [0x008FB232+1658114]\n\tGetHandleVerifier [0x009B312C+2411516]\n\tGetHandleVerifier [0x007EF261+560433]\n\tGetHandleVerifier [0x007EE366+556598]\n\tOrdinal0 [0x006F286B+2173035]\n\tOrdinal0 [0x006F75F8+2192888]\n\tOrdinal0 [0x006F76E5+2193125]\n\tOrdinal0 [0x007011FC+2232828]\n\tBaseThreadInitThunk [0x7545FA29+25]\n\tRtlGetAppContainerNamedObjectPath [0x771D7A7E+286]\n\tRtlGetAppContainerNamedObjectPath [0x771D7A4E+238]\n"
     ]
    }
   ],
   "source": [
    "for k in record:\n",
    "    username = record[k]['Username']\n",
    "    password = record[k]['Password']\n",
    "    driver.get('https://stocktwits.com/')\n",
    "    driver.find_element(By.XPATH, '(//nav//button)[1]').click() # login-button\n",
    "    driver.find_element(By.XPATH, '//input[@name=\"login\"]').send_keys(username), sleep(2)\n",
    "    driver.find_element(By.XPATH, '//input[@name=\"password\"]').send_keys(password), sleep(2)\n",
    "    while True:\n",
    "        status = driver.find_element(By.CSS_SELECTOR, 'div.antigate_solver').get_attribute('class')\n",
    "        if 'solved' in status.lower():\n",
    "            break\n",
    "        if 'error' in status.lower():\n",
    "            print('error')\n",
    "            break\n",
    "        else:\n",
    "            sleep(1)\n",
    "    sleep(4)\n",
    "    driver.find_element(By.XPATH, '//button[@type=\"submit\"]').click()\n",
    "    break"
   ]
  },
  {
   "cell_type": "code",
   "execution_count": 3,
   "id": "dc03fea7",
   "metadata": {},
   "outputs": [],
   "source": [
    "Tickers = [\"AAPL\", \"TSLA\", \"AMZN\", \"FB\", \"NFLX\", \"SPY\", \"AMD\", \"MSFT\", \"AMC\", \"NIO\", \"BABA\", \"NVDA\", \"TWTR\", \"DIS\", \"GME\", \"GOOG\", \"SNDL\", \"SNAP\", \"PLTR\", \"LCID\", \"OCGN\", \"BA\", \"PLUG\", \"SQ\", \"F\", \"GE\", \"BB\", \"FCEL\", \"SPCE\", \"ZOM\", \"TLRY\", \"MU\", \"WKHS\", \"BAC\", \"GOOGL\", \"QQQ\", \"GEVO\", \"NAKD\", \"ACB\", \"INTC\", \"IDEX\", \"ROKU\", \"BNGO\", \"MARA\", \"NOK\", \"PYPL\", \"GNUS\", \"WMT\", \"RIOT\", \"AAL\", \"IBIO\", \"INO\", \"SBUX\", \"DKNG\", \"CEI\", \"SHOP\", \"MRNA\", \"T\", \"NKE\", \"CTRM\", \"UBER\", \"GPRO\", \"NKLA\", \"CLOV\", \"SOS\", \"MVIS\", \"NVAX\", \"CGC\", \"PFE\", \"BYND\", \"COIN\", \"VXRT\", \"TOPS\", \"V\", \"JAGX\", \"XSPA\", \"GILD\", \"CCL\", \"FSR\", \"WISH\", \"XOM\", \"NNDM\", \"SRNE\", \"JPM\", \"DAL\", \"ATOS\", \"UVXY\", \"CRON\", \"VISL\", \"TNXP\"]\n",
    "\n",
    "# for ticker in Tickers:\n",
    "#     res = requests.get(f\"http://www.tslatrading.com/calls/index.php?t={ticker}\")\n",
    "#     print(res.text)\n",
    "#     soup = BeautifulSoup(res.text)\n",
    "#     content = soup.get_text().replace('\\r','').replace('\\n\\n','\\n').split('\\n')\n",
    "#     print(content)\n",
    "#     # driver.find_element(By.CSS_SELECTOR, 'div.DraftEditor-root div.public-DraftStyleDefault-block').send_keys(res.text)\n",
    "#     break\n",
    "    "
   ]
  },
  {
   "cell_type": "code",
   "execution_count": 4,
   "id": "59c4096e",
   "metadata": {},
   "outputs": [],
   "source": [
    "def postContent(url,Tickers):\n",
    "    res = requests.get(f\"http://www.tslatrading.com/calls/index.php?t={random.choice(Tickers)}\")\n",
    "    soup = BeautifulSoup(res.text)\n",
    "    content = soup.get_text().replace('\\r','').replace('\\n\\n','\\n').split('\\n')\n",
    "    if not url:\n",
    "        posttext = ''\n",
    "        for _ in content[:-1]:\n",
    "            posttext+=_+'\\n'\n",
    "    if url:\n",
    "        posttext = ''\n",
    "        for _ in content:\n",
    "            posttext+=_+'\\n'\n",
    "    return posttext"
   ]
  },
  {
   "cell_type": "code",
   "execution_count": 11,
   "id": "1ba8e061",
   "metadata": {},
   "outputs": [
    {
     "name": "stdout",
     "output_type": "stream",
     "text": [
      "Xtrades® Trade Alert (Actionable)\n",
      "Ticker: $D\n",
      "Buy: April 14, 2022 $82.50 Calls\n",
      "Entry Price: $1.21 - $1.15\n",
      "Exit Price: $1.65\n",
      "Stop Loss: $1.06\n",
      "Potential ROI: 36%\n",
      "Estimated Hold Time: 26 Minutes\n",
      "\n"
     ]
    }
   ],
   "source": [
    "import random\n",
    "ticker = random.choice(Tickers)\n",
    "url=False\n",
    "posttext = postContent(url,ticker)\n",
    "print(posttext)"
   ]
  },
  {
   "cell_type": "code",
   "execution_count": 7,
   "id": "f64bae59",
   "metadata": {},
   "outputs": [
    {
     "name": "stdout",
     "output_type": "stream",
     "text": [
      "\n",
      "\n",
      "\n",
      "\n",
      "\n",
      "\n"
     ]
    },
    {
     "ename": "KeyboardInterrupt",
     "evalue": "Interrupted by user",
     "output_type": "error",
     "traceback": [
      "\u001b[1;31m---------------------------------------------------------------------------\u001b[0m",
      "\u001b[1;31mKeyboardInterrupt\u001b[0m                         Traceback (most recent call last)",
      "Input \u001b[1;32mIn [7]\u001b[0m, in \u001b[0;36m<module>\u001b[1;34m\u001b[0m\n\u001b[0;32m     12\u001b[0m submitPost\u001b[38;5;241m.\u001b[39mclick()\n\u001b[0;32m     13\u001b[0m count\u001b[38;5;241m+\u001b[39m\u001b[38;5;241m=\u001b[39m\u001b[38;5;241m1\u001b[39m\n\u001b[1;32m---> 14\u001b[0m \u001b[38;5;28;43minput\u001b[39;49m\u001b[43m(\u001b[49m\u001b[43m)\u001b[49m\n",
      "File \u001b[1;32mc:\\users\\ghulam mustafa\\appdata\\local\\programs\\python\\python39\\lib\\site-packages\\ipykernel\\kernelbase.py:1044\u001b[0m, in \u001b[0;36mKernel.raw_input\u001b[1;34m(self, prompt)\u001b[0m\n\u001b[0;32m   1040\u001b[0m \u001b[38;5;28;01mif\u001b[39;00m \u001b[38;5;129;01mnot\u001b[39;00m \u001b[38;5;28mself\u001b[39m\u001b[38;5;241m.\u001b[39m_allow_stdin:\n\u001b[0;32m   1041\u001b[0m     \u001b[38;5;28;01mraise\u001b[39;00m StdinNotImplementedError(\n\u001b[0;32m   1042\u001b[0m         \u001b[38;5;124m\"\u001b[39m\u001b[38;5;124mraw_input was called, but this frontend does not support input requests.\u001b[39m\u001b[38;5;124m\"\u001b[39m\n\u001b[0;32m   1043\u001b[0m     )\n\u001b[1;32m-> 1044\u001b[0m \u001b[38;5;28;01mreturn\u001b[39;00m \u001b[38;5;28;43mself\u001b[39;49m\u001b[38;5;241;43m.\u001b[39;49m\u001b[43m_input_request\u001b[49m\u001b[43m(\u001b[49m\n\u001b[0;32m   1045\u001b[0m \u001b[43m    \u001b[49m\u001b[38;5;28;43mstr\u001b[39;49m\u001b[43m(\u001b[49m\u001b[43mprompt\u001b[49m\u001b[43m)\u001b[49m\u001b[43m,\u001b[49m\n\u001b[0;32m   1046\u001b[0m \u001b[43m    \u001b[49m\u001b[38;5;28;43mself\u001b[39;49m\u001b[38;5;241;43m.\u001b[39;49m\u001b[43m_parent_ident\u001b[49m\u001b[43m[\u001b[49m\u001b[38;5;124;43m\"\u001b[39;49m\u001b[38;5;124;43mshell\u001b[39;49m\u001b[38;5;124;43m\"\u001b[39;49m\u001b[43m]\u001b[49m\u001b[43m,\u001b[49m\n\u001b[0;32m   1047\u001b[0m \u001b[43m    \u001b[49m\u001b[38;5;28;43mself\u001b[39;49m\u001b[38;5;241;43m.\u001b[39;49m\u001b[43mget_parent\u001b[49m\u001b[43m(\u001b[49m\u001b[38;5;124;43m\"\u001b[39;49m\u001b[38;5;124;43mshell\u001b[39;49m\u001b[38;5;124;43m\"\u001b[39;49m\u001b[43m)\u001b[49m\u001b[43m,\u001b[49m\n\u001b[0;32m   1048\u001b[0m \u001b[43m    \u001b[49m\u001b[43mpassword\u001b[49m\u001b[38;5;241;43m=\u001b[39;49m\u001b[38;5;28;43;01mFalse\u001b[39;49;00m\u001b[43m,\u001b[49m\n\u001b[0;32m   1049\u001b[0m \u001b[43m\u001b[49m\u001b[43m)\u001b[49m\n",
      "File \u001b[1;32mc:\\users\\ghulam mustafa\\appdata\\local\\programs\\python\\python39\\lib\\site-packages\\ipykernel\\kernelbase.py:1089\u001b[0m, in \u001b[0;36mKernel._input_request\u001b[1;34m(self, prompt, ident, parent, password)\u001b[0m\n\u001b[0;32m   1086\u001b[0m             \u001b[38;5;28;01mbreak\u001b[39;00m\n\u001b[0;32m   1087\u001b[0m \u001b[38;5;28;01mexcept\u001b[39;00m \u001b[38;5;167;01mKeyboardInterrupt\u001b[39;00m:\n\u001b[0;32m   1088\u001b[0m     \u001b[38;5;66;03m# re-raise KeyboardInterrupt, to truncate traceback\u001b[39;00m\n\u001b[1;32m-> 1089\u001b[0m     \u001b[38;5;28;01mraise\u001b[39;00m \u001b[38;5;167;01mKeyboardInterrupt\u001b[39;00m(\u001b[38;5;124m\"\u001b[39m\u001b[38;5;124mInterrupted by user\u001b[39m\u001b[38;5;124m\"\u001b[39m) \u001b[38;5;28;01mfrom\u001b[39;00m \u001b[38;5;28mNone\u001b[39m\n\u001b[0;32m   1090\u001b[0m \u001b[38;5;28;01mexcept\u001b[39;00m \u001b[38;5;167;01mException\u001b[39;00m:\n\u001b[0;32m   1091\u001b[0m     \u001b[38;5;28mself\u001b[39m\u001b[38;5;241m.\u001b[39mlog\u001b[38;5;241m.\u001b[39mwarning(\u001b[38;5;124m\"\u001b[39m\u001b[38;5;124mInvalid Message:\u001b[39m\u001b[38;5;124m\"\u001b[39m, exc_info\u001b[38;5;241m=\u001b[39m\u001b[38;5;28;01mTrue\u001b[39;00m)\n",
      "\u001b[1;31mKeyboardInterrupt\u001b[0m: Interrupted by user"
     ]
    }
   ],
   "source": [
    "count = 1\n",
    "url = False\n",
    "while True:\n",
    "    # if count%15==0 and (_/15)%2==0:\n",
    "    #     url = True\n",
    "    # if count%15==0 and (_/15)%2==1:\n",
    "    url = True\n",
    "    postText = postContent(url,Tickers)\n",
    "    postBox = driver.find_element(By.CSS_SELECTOR, 'div.DraftEditor-root div.public-DraftStyleDefault-block')\n",
    "    postBox.send_keys(postText), sleep(4)\n",
    "    submitPost = driver.find_element(By.XPATH, '//div[@data-testid=\"post-form-main\"]/parent::div/following-sibling::div/div/button')\n",
    "    submitPost.click()\n",
    "    count+=1\n",
    "    input()"
   ]
  },
  {
   "cell_type": "code",
   "execution_count": 24,
   "id": "d5b228b2",
   "metadata": {},
   "outputs": [
    {
     "data": {
      "text/plain": [
       "'<pre>FastScalp® Pro Trade Alert (Actionable)\\r\\n\\r\\nTicker: $AAPL\\r\\n\\r\\nBuy: March 18, 2022 $155.00 Calls\\r\\n\\r\\nEntry Price: $3.20 - $3.20\\r\\n\\r\\nExit Price: $4.03\\r\\n\\r\\nStop Loss: $2.82\\r\\n\\r\\nPotential ROI: 26%\\r\\n\\r\\nEstimated Hold Time: 39 Minutes\\r\\n\\r\\nAlert Courtesy Of: </pre>'"
      ]
     },
     "execution_count": 24,
     "metadata": {},
     "output_type": "execute_result"
    }
   ],
   "source": [
    "res.text.replace('https://www.fastscalp.com/','')"
   ]
  },
  {
   "cell_type": "code",
   "execution_count": 47,
   "id": "fcd601b0",
   "metadata": {},
   "outputs": [],
   "source": [
    "x = res.text.replace('\\r','').replace('\\n\\n','\\n')"
   ]
  },
  {
   "cell_type": "code",
   "execution_count": 48,
   "id": "2eb15d31",
   "metadata": {},
   "outputs": [
    {
     "name": "stdout",
     "output_type": "stream",
     "text": [
      "<pre>FastScalp® Pro Trade Alert (Actionable)\n",
      "Ticker: $AAPL\n",
      "Buy: March 11, 2022 $160.00 Calls\n",
      "Entry Price: $1.04 - $1.04\n",
      "Exit Price: $1.41\n",
      "Stop Loss: $0.92\n",
      "Potential ROI: 36%\n",
      "Estimated Hold Time: 23 Minutes\n",
      "Alert Courtesy Of: https://www.fastscalp.com/</pre>\n"
     ]
    }
   ],
   "source": [
    "print(x)"
   ]
  },
  {
   "cell_type": "code",
   "execution_count": 28,
   "id": "20951aca",
   "metadata": {},
   "outputs": [
    {
     "data": {
      "text/plain": [
       "['FastScalp® Pro Trade Alert (Actionable)',\n",
       " 'Ticker: $AAPL',\n",
       " 'Buy: March 18, 2022 $155.00 Calls',\n",
       " 'Entry Price: $3.20 - $3.20',\n",
       " 'Exit Price: $4.03',\n",
       " 'Stop Loss: $2.82',\n",
       " 'Potential ROI: 26%',\n",
       " 'Estimated Hold Time: 39 Minutes',\n",
       " 'Alert Courtesy Of: https://www.fastscalp.com/']"
      ]
     },
     "execution_count": 28,
     "metadata": {},
     "output_type": "execute_result"
    }
   ],
   "source": [
    "soup = BeautifulSoup(res.text)\n",
    "y = soup.get_text().replace('\\r','').replace('\\n\\n','\\n').split('\\n')"
   ]
  },
  {
   "cell_type": "code",
   "execution_count": 26,
   "id": "c5771770",
   "metadata": {},
   "outputs": [],
   "source": [
    "posttext = ''\n",
    "for _ in y[:-1]:\n",
    "    posttext+=_+'\\n'"
   ]
  },
  {
   "cell_type": "code",
   "execution_count": 27,
   "id": "5e20d9a5",
   "metadata": {},
   "outputs": [
    {
     "name": "stdout",
     "output_type": "stream",
     "text": [
      "FastScalp® Pro Trade Alert (Actionable)\n",
      "Ticker: $AAPL\n",
      "Buy: March 18, 2022 $155.00 Calls\n",
      "Entry Price: $3.20 - $3.20\n",
      "Exit Price: $4.03\n",
      "Stop Loss: $2.82\n",
      "Potential ROI: 26%\n",
      "Estimated Hold Time: 39 Minutes\n",
      "\n"
     ]
    }
   ],
   "source": [
    "print(posttext)"
   ]
  },
  {
   "cell_type": "code",
   "execution_count": 12,
   "id": "b0b9900c",
   "metadata": {},
   "outputs": [
    {
     "data": {
      "text/plain": [
       "2.0"
      ]
     },
     "execution_count": 12,
     "metadata": {},
     "output_type": "execute_result"
    }
   ],
   "source": [
    "30/15"
   ]
  },
  {
   "cell_type": "code",
   "execution_count": 29,
   "id": "29893ef8",
   "metadata": {},
   "outputs": [
    {
     "name": "stdout",
     "output_type": "stream",
     "text": [
      "False\n",
      "True\n",
      "False\n",
      "True\n",
      "False\n",
      "True\n"
     ]
    }
   ],
   "source": [
    "for _ in range(1,100):\n",
    "    if _%15==0 and (_/15)%2==0:\n",
    "        print('True')\n",
    "    if _%15==0 and (_/15)%2==1:\n",
    "        print('False')\n",
    "    "
   ]
  },
  {
   "cell_type": "code",
   "execution_count": 16,
   "id": "29091a9c",
   "metadata": {},
   "outputs": [
    {
     "data": {
      "text/plain": [
       "90"
      ]
     },
     "execution_count": 16,
     "metadata": {},
     "output_type": "execute_result"
    }
   ],
   "source": [
    "15*6"
   ]
  },
  {
   "cell_type": "code",
   "execution_count": 30,
   "id": "74a63c58",
   "metadata": {},
   "outputs": [],
   "source": [
    "url = bool"
   ]
  },
  {
   "cell_type": "code",
   "execution_count": 31,
   "id": "79c9f344",
   "metadata": {},
   "outputs": [
    {
     "data": {
      "text/plain": [
       "bool"
      ]
     },
     "execution_count": 31,
     "metadata": {},
     "output_type": "execute_result"
    }
   ],
   "source": [
    "url"
   ]
  },
  {
   "cell_type": "code",
   "execution_count": 32,
   "id": "e546eb91",
   "metadata": {},
   "outputs": [],
   "source": [
    "url = True"
   ]
  },
  {
   "cell_type": "code",
   "execution_count": 33,
   "id": "16b8c33c",
   "metadata": {},
   "outputs": [
    {
     "data": {
      "text/plain": [
       "True"
      ]
     },
     "execution_count": 33,
     "metadata": {},
     "output_type": "execute_result"
    }
   ],
   "source": [
    "url"
   ]
  },
  {
   "cell_type": "code",
   "execution_count": 9,
   "id": "5a349259",
   "metadata": {},
   "outputs": [],
   "source": [
    "texdata = ['Xtrades® Trade Alert (Actionable)\\r', '\\r', 'Ticker: $AAPL\\r', 'Buy: March 25, 2022 $165.00 Calls\\r', 'Entry Price: $1.69 - $1.74\\r', 'Exit Price: $1.98\\r', 'Stop Loss: $1.49\\r', 'Potential ROI: 17%\\r', 'Estimated Hold Time: 74 Minutes\\r', '\\r']"
   ]
  },
  {
   "cell_type": "code",
   "execution_count": 21,
   "id": "495e2779",
   "metadata": {},
   "outputs": [
    {
     "name": "stdout",
     "output_type": "stream",
     "text": [
      "Xtrades® Trade Alert (Actionable)\r\n",
      "\r\n",
      "Ticker: $AAPL\r\n",
      "Buy: March 25, 2022 $165.00 Calls\r\n",
      "Entry Price: $1.69 - $1.74\r\n",
      "Exit Price: $2.26\r\n",
      "Stop Loss: $1.49\r\n",
      "Potential ROI: 34%\r\n",
      "Estimated Hold Time: 34 Minutes\r\n",
      "\r\n",
      "Alert Courtesy Of: https://www.xtrades.io/\n",
      "\n",
      "Xtrades® Trade Alert (Actionable)\n",
      "\n",
      "Ticker: $AAPL\n",
      "Buy: March 25, 2022 $165.00 Calls\n",
      "Entry Price: $1.69 - $1.74\n",
      "Exit Price: $2.26\n",
      "Stop Loss: $1.49\n",
      "Potential ROI: 34%\n",
      "Estimated Hold Time: 34 Minutes\n",
      "\n",
      "\n"
     ]
    }
   ],
   "source": [
    "import requests\n",
    "from bs4 import BeautifulSoup\n",
    "\n",
    "\n",
    "Tickers = [\"AAPL\", \"TSLA\", \"AMZN\", \"FB\", \"NFLX\", \"SPY\", \"AMD\", \"MSFT\", \"AMC\", \"NIO\", \"BABA\", \"NVDA\", \"TWTR\", \"DIS\", \"GME\", \"GOOG\", \"SNDL\", \"SNAP\", \"PLTR\", \"LCID\", \"OCGN\", \"BA\", \"PLUG\", \"SQ\", \"F\", \"GE\", \"BB\", \"FCEL\", \"SPCE\", \"ZOM\", \"TLRY\", \"MU\", \"WKHS\", \"BAC\", \"GOOGL\", \"QQQ\", \"GEVO\", \"NAKD\", \"ACB\", \"INTC\", \"IDEX\", \"ROKU\", \"BNGO\", \"MARA\", \"NOK\", \"PYPL\", \"GNUS\", \"WMT\", \"RIOT\", \"AAL\", \"IBIO\", \"INO\", \"SBUX\", \"DKNG\", \"CEI\", \"SHOP\", \"MRNA\", \"T\", \"NKE\", \"CTRM\", \"UBER\", \"GPRO\", \"NKLA\", \"CLOV\", \"SOS\", \"MVIS\", \"NVAX\", \"CGC\", \"PFE\", \"BYND\", \"COIN\", \"VXRT\", \"TOPS\", \"V\", \"JAGX\", \"XSPA\", \"GILD\", \"CCL\", \"FSR\", \"WISH\", \"XOM\", \"NNDM\", \"SRNE\", \"JPM\", \"DAL\", \"ATOS\", \"UVXY\", \"CRON\", \"VISL\", \"TNXP\"]\n",
    "\n",
    "\n",
    "def makesoup(url):\n",
    "    res = requests.get(url)\n",
    "    soup = BeautifulSoup(res.text, 'lxml')\n",
    "    content = soup.get_text()\n",
    "    return content\n",
    "\n",
    "for x in Tickers:\n",
    "    url = f'https://www.tslatrading.com/calls/index.php?t={x}'\n",
    "    soup = makesoup(url)\n",
    "    print(soup)\n",
    "    print()\n",
    "    output = \"\"\n",
    "    for text in soup.split('\\n')[:-1]:\n",
    "        k = text.strip()\n",
    "        output+=k + '\\n'\n",
    "    print(output)\n",
    "    break\n",
    "    "
   ]
  },
  {
   "cell_type": "code",
   "execution_count": 12,
   "id": "888f8791",
   "metadata": {},
   "outputs": [
    {
     "data": {
      "text/plain": [
       "'Xtrades® Trade Alert (Actionable)\\r'"
      ]
     },
     "execution_count": 12,
     "metadata": {},
     "output_type": "execute_result"
    }
   ],
   "source": [
    "s = 'Xtrades® Trade Alert (Actionable)\\r'\n",
    "s"
   ]
  },
  {
   "cell_type": "code",
   "execution_count": null,
   "id": "e02746cc",
   "metadata": {},
   "outputs": [],
   "source": []
  }
 ],
 "metadata": {
  "kernelspec": {
   "display_name": "Python 3 (ipykernel)",
   "language": "python",
   "name": "python3"
  },
  "language_info": {
   "codemirror_mode": {
    "name": "ipython",
    "version": 3
   },
   "file_extension": ".py",
   "mimetype": "text/x-python",
   "name": "python",
   "nbconvert_exporter": "python",
   "pygments_lexer": "ipython3",
   "version": "3.9.1"
  }
 },
 "nbformat": 4,
 "nbformat_minor": 5
}
